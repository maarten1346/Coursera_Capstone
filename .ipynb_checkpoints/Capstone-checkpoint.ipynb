{
 "cells": [
  {
   "cell_type": "markdown",
   "metadata": {},
   "source": [
    "# Applied Data Science Capstone\n",
    "\n",
    "This notebook is used to perform data analysis for the Applied Data Science Capstone project, part of the IBM Data Science Professional Certificate on Coursera. Here, we develop a Machine Learning model to predict the severity of car accidents according to historical data."
   ]
  },
  {
   "cell_type": "code",
   "execution_count": 26,
   "metadata": {},
   "outputs": [],
   "source": [
    "import pandas as pd\n",
    "import numpy as np\n",
    "import matplotlib.pyplot as plt"
   ]
  },
  {
   "cell_type": "code",
   "execution_count": 3,
   "metadata": {},
   "outputs": [
    {
     "name": "stderr",
     "output_type": "stream",
     "text": [
      "D:\\Anaconda\\lib\\site-packages\\IPython\\core\\interactiveshell.py:3071: DtypeWarning: Columns (33) have mixed types.Specify dtype option on import or set low_memory=False.\n",
      "  has_raised = await self.run_ast_nodes(code_ast.body, cell_name,\n"
     ]
    }
   ],
   "source": [
    "car_data = pd.read_csv('Data-Collisions.csv')"
   ]
  },
  {
   "cell_type": "code",
   "execution_count": 19,
   "metadata": {},
   "outputs": [
    {
     "data": {
      "text/plain": [
       "SEVERITYCODE  LIGHTCOND               \n",
       "1             Daylight                    77593\n",
       "              Dark - Street Lights On     34032\n",
       "              Unknown                     12868\n",
       "              Dusk                         3958\n",
       "              Dawn                         1678\n",
       "              Dark - No Street Lights      1203\n",
       "              Dark - Street Lights Off      883\n",
       "              Other                         183\n",
       "              Dark - Unknown Lighting         7\n",
       "2             Daylight                    38544\n",
       "              Dark - Street Lights On     14475\n",
       "              Dusk                         1944\n",
       "              Dawn                          824\n",
       "              Unknown                       605\n",
       "              Dark - No Street Lights       334\n",
       "              Dark - Street Lights Off      316\n",
       "              Other                          52\n",
       "              Dark - Unknown Lighting         4\n",
       "Name: LIGHTCOND, dtype: int64"
      ]
     },
     "execution_count": 19,
     "metadata": {},
     "output_type": "execute_result"
    }
   ],
   "source": [
    "car_data.groupby(car_data['SEVERITYCODE'])['LIGHTCOND'].value_counts()"
   ]
  },
  {
   "cell_type": "code",
   "execution_count": 30,
   "metadata": {},
   "outputs": [
    {
     "data": {
      "text/plain": [
       "(array([3.0833e+04, 1.4765e+05, 1.3010e+04, 2.9550e+03, 1.4600e+02,\n",
       "        4.6000e+01, 2.4000e+01, 2.0000e+00, 7.0000e+00]),\n",
       " array([ 0.        ,  1.33333333,  2.66666667,  4.        ,  5.33333333,\n",
       "         6.66666667,  8.        ,  9.33333333, 10.66666667, 12.        ]),\n",
       " <a list of 9 Patch objects>)"
      ]
     },
     "execution_count": 30,
     "metadata": {},
     "output_type": "execute_result"
    },
    {
     "data": {
      "image/png": "[encoded data removed]",
      "text/plain": [
       "<Figure size 432x288 with 1 Axes>"
      ]
     },
     "metadata": {
      "needs_background": "light"
     },
     "output_type": "display_data"
    }
   ],
   "source": [
    "bins = np.linspace(car_data['VEHCOUNT'].min(),car_data['VEHCOUNT'].max(),10)\n",
    "plt.hist(car_data['VEHCOUNT'],bins = bins)"
   ]
  },
  {
   "cell_type": "code",
   "execution_count": 48,
   "metadata": {},
   "outputs": [
    {
     "data": {
      "text/plain": [
       "(array([1.83142e+05, 1.09500e+04, 4.33000e+02, 7.00000e+01, 1.90000e+01,\n",
       "        1.40000e+01, 1.50000e+01, 7.00000e+00, 7.00000e+00]),\n",
       " array([ 0.        ,  4.33333333,  8.66666667, 13.        , 17.33333333,\n",
       "        21.66666667, 26.        , 30.33333333, 34.66666667, 39.        ]),\n",
       " <a list of 9 Patch objects>)"
      ]
     },
     "execution_count": 48,
     "metadata": {},
     "output_type": "execute_result"
    },
    {
     "data": {
      "image/png": "[encoded data removed]",
      "text/plain": [
       "<Figure size 432x288 with 1 Axes>"
      ]
     },
     "metadata": {
      "needs_background": "light"
     },
     "output_type": "display_data"
    }
   ],
   "source": [
    "car_data.drop(car_data[car_data['PERSONCOUNT'] > 40].index,inplace = True)\n",
    "\n",
    "bins = np.linspace(car_data['PERSONCOUNT'].min(),car_data['PERSONCOUNT'].max(),10)\n",
    "plt.hist(car_data['PERSONCOUNT'],bins = bins)"
   ]
  },
  {
   "cell_type": "code",
   "execution_count": 49,
   "metadata": {},
   "outputs": [
    {
     "data": {
      "text/plain": [
       "Mid-Block (not related to intersection)              89799\n",
       "At Intersection (intersection related)               62803\n",
       "Mid-Block (but intersection related)                 22782\n",
       "Driveway Junction                                    10671\n",
       "At Intersection (but not related to intersection)     2098\n",
       "Ramp Junction                                          166\n",
       "Unknown                                                  9\n",
       "Name: JUNCTIONTYPE, dtype: int64"
      ]
     },
     "execution_count": 49,
     "metadata": {},
     "output_type": "execute_result"
    }
   ],
   "source": [
    "car_data['JUNCTIONTYPE'].value_counts()"
   ]
  },
  {
   "cell_type": "code",
   "execution_count": null,
   "metadata": {},
   "outputs": [],
   "source": []
  }
 ],
 "metadata": {
  "kernelspec": {
   "display_name": "Python 3",
   "language": "python",
   "name": "python3"
  },
  "language_info": {
   "codemirror_mode": {
    "name": "ipython",
    "version": 3
   },
   "file_extension": ".py",
   "mimetype": "text/x-python",
   "name": "python",
   "nbconvert_exporter": "python",
   "pygments_lexer": "ipython3",
   "version": "3.8.3"
  }
 },
 "nbformat": 4,
 "nbformat_minor": 4
}
