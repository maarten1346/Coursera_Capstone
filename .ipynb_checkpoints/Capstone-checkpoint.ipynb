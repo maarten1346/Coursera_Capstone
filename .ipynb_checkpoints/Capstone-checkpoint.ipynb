{
 "cells": [
  {
   "cell_type": "markdown",
   "metadata": {},
   "source": [
    "# Applied Data Science Capstone\n",
    "\n",
    "This notebook is used to perform data analysis for the Applied Data Science Capstone project, part of the IBM Data Science Professional Certificate on Coursera. Here, we develop a Machine Learning model to predict the severity of car accidents according to historical data."
   ]
  },
  {
   "cell_type": "code",
   "execution_count": 2,
   "metadata": {},
   "outputs": [],
   "source": [
    "import pandas as pd\n",
    "import numpy as np\n",
    "import seaborn as sns\n",
    "import matplotlib.pyplot as plt\n",
    "import scipy.stats\n",
    "from sklearn import preprocessing\n",
    "from sklearn.model_selection import train_test_split"
   ]
  },
  {
   "cell_type": "markdown",
   "metadata": {},
   "source": [
    "## Loading and viewing full data set"
   ]
  },
  {
   "cell_type": "code",
   "execution_count": 134,
   "metadata": {},
   "outputs": [
    {
     "name": "stderr",
     "output_type": "stream",
     "text": [
      "D:\\Anaconda\\lib\\site-packages\\IPython\\core\\interactiveshell.py:3071: DtypeWarning: Columns (33) have mixed types.Specify dtype option on import or set low_memory=False.\n",
      "  has_raised = await self.run_ast_nodes(code_ast.body, cell_name,\n"
     ]
    }
   ],
   "source": [
    "# import dataset from CSV file\n",
    "\n",
    "car_data = pd.read_csv('Data-Collisions.csv')"
   ]
  },
  {
   "cell_type": "code",
   "execution_count": 135,
   "metadata": {},
   "outputs": [
    {
     "data": {
      "text/plain": [
       "SEVERITYCODE        int64\n",
       "X                 float64\n",
       "Y                 float64\n",
       "OBJECTID            int64\n",
       "INCKEY              int64\n",
       "COLDETKEY           int64\n",
       "REPORTNO           object\n",
       "STATUS             object\n",
       "ADDRTYPE           object\n",
       "INTKEY            float64\n",
       "LOCATION           object\n",
       "EXCEPTRSNCODE      object\n",
       "EXCEPTRSNDESC      object\n",
       "SEVERITYCODE.1      int64\n",
       "SEVERITYDESC       object\n",
       "COLLISIONTYPE      object\n",
       "PERSONCOUNT         int64\n",
       "PEDCOUNT            int64\n",
       "PEDCYLCOUNT         int64\n",
       "VEHCOUNT            int64\n",
       "INCDATE            object\n",
       "INCDTTM            object\n",
       "JUNCTIONTYPE       object\n",
       "SDOT_COLCODE        int64\n",
       "SDOT_COLDESC       object\n",
       "INATTENTIONIND     object\n",
       "UNDERINFL          object\n",
       "WEATHER            object\n",
       "ROADCOND           object\n",
       "LIGHTCOND          object\n",
       "PEDROWNOTGRNT      object\n",
       "SDOTCOLNUM        float64\n",
       "SPEEDING           object\n",
       "ST_COLCODE         object\n",
       "ST_COLDESC         object\n",
       "SEGLANEKEY          int64\n",
       "CROSSWALKKEY        int64\n",
       "HITPARKEDCAR       object\n",
       "dtype: object"
      ]
     },
     "execution_count": 135,
     "metadata": {},
     "output_type": "execute_result"
    }
   ],
   "source": [
    "# investigate data types\n",
    "\n",
    "car_data.dtypes"
   ]
  },
  {
   "cell_type": "code",
   "execution_count": 137,
   "metadata": {},
   "outputs": [],
   "source": [
    "# obtain descriptive statistics and write them to XLSX file\n",
    "\n",
    "car_data.describe().to_excel(\"statistics.xlsx\")"
   ]
  },
  {
   "cell_type": "markdown",
   "metadata": {},
   "source": [
    "## Data exploration"
   ]
  },
  {
   "cell_type": "code",
   "execution_count": 144,
   "metadata": {},
   "outputs": [
    {
     "data": {
      "text/html": [
       "<div>\n",
       "<style scoped>\n",
       "    .dataframe tbody tr th:only-of-type {\n",
       "        vertical-align: middle;\n",
       "    }\n",
       "\n",
       "    .dataframe tbody tr th {\n",
       "        vertical-align: top;\n",
       "    }\n",
       "\n",
       "    .dataframe thead th {\n",
       "        text-align: right;\n",
       "    }\n",
       "</style>\n",
       "<table border=\"1\" class=\"dataframe\">\n",
       "  <thead>\n",
       "    <tr style=\"text-align: right;\">\n",
       "      <th></th>\n",
       "      <th>X</th>\n",
       "      <th>Y</th>\n",
       "      <th>OBJECTID</th>\n",
       "      <th>INCKEY</th>\n",
       "      <th>COLDETKEY</th>\n",
       "      <th>REPORTNO</th>\n",
       "      <th>STATUS</th>\n",
       "      <th>ADDRTYPE</th>\n",
       "      <th>INTKEY</th>\n",
       "      <th>LOCATION</th>\n",
       "      <th>...</th>\n",
       "      <th>ROADCOND</th>\n",
       "      <th>LIGHTCOND</th>\n",
       "      <th>PEDROWNOTGRNT</th>\n",
       "      <th>SDOTCOLNUM</th>\n",
       "      <th>SPEEDING</th>\n",
       "      <th>ST_COLCODE</th>\n",
       "      <th>ST_COLDESC</th>\n",
       "      <th>SEGLANEKEY</th>\n",
       "      <th>CROSSWALKKEY</th>\n",
       "      <th>HITPARKEDCAR</th>\n",
       "    </tr>\n",
       "    <tr>\n",
       "      <th>SEVERITYCODE</th>\n",
       "      <th></th>\n",
       "      <th></th>\n",
       "      <th></th>\n",
       "      <th></th>\n",
       "      <th></th>\n",
       "      <th></th>\n",
       "      <th></th>\n",
       "      <th></th>\n",
       "      <th></th>\n",
       "      <th></th>\n",
       "      <th></th>\n",
       "      <th></th>\n",
       "      <th></th>\n",
       "      <th></th>\n",
       "      <th></th>\n",
       "      <th></th>\n",
       "      <th></th>\n",
       "      <th></th>\n",
       "      <th></th>\n",
       "      <th></th>\n",
       "      <th></th>\n",
       "    </tr>\n",
       "  </thead>\n",
       "  <tbody>\n",
       "    <tr>\n",
       "      <th>1</th>\n",
       "      <td>132221</td>\n",
       "      <td>132221</td>\n",
       "      <td>136485</td>\n",
       "      <td>136485</td>\n",
       "      <td>136485</td>\n",
       "      <td>136485</td>\n",
       "      <td>136485</td>\n",
       "      <td>134750</td>\n",
       "      <td>37251</td>\n",
       "      <td>134081</td>\n",
       "      <td>...</td>\n",
       "      <td>132533</td>\n",
       "      <td>132405</td>\n",
       "      <td>460</td>\n",
       "      <td>81429</td>\n",
       "      <td>5802</td>\n",
       "      <td>136480</td>\n",
       "      <td>132622</td>\n",
       "      <td>136485</td>\n",
       "      <td>136485</td>\n",
       "      <td>136485</td>\n",
       "    </tr>\n",
       "    <tr>\n",
       "      <th>2</th>\n",
       "      <td>57118</td>\n",
       "      <td>57118</td>\n",
       "      <td>58188</td>\n",
       "      <td>58188</td>\n",
       "      <td>58188</td>\n",
       "      <td>58188</td>\n",
       "      <td>58188</td>\n",
       "      <td>57997</td>\n",
       "      <td>27819</td>\n",
       "      <td>57915</td>\n",
       "      <td>...</td>\n",
       "      <td>57128</td>\n",
       "      <td>57098</td>\n",
       "      <td>4207</td>\n",
       "      <td>33507</td>\n",
       "      <td>3531</td>\n",
       "      <td>58175</td>\n",
       "      <td>57147</td>\n",
       "      <td>58188</td>\n",
       "      <td>58188</td>\n",
       "      <td>58188</td>\n",
       "    </tr>\n",
       "  </tbody>\n",
       "</table>\n",
       "<p>2 rows × 37 columns</p>\n",
       "</div>"
      ],
      "text/plain": [
       "                   X       Y  OBJECTID  INCKEY  COLDETKEY  REPORTNO  STATUS  \\\n",
       "SEVERITYCODE                                                                  \n",
       "1             132221  132221    136485  136485     136485    136485  136485   \n",
       "2              57118   57118     58188   58188      58188     58188   58188   \n",
       "\n",
       "              ADDRTYPE  INTKEY  LOCATION  ...  ROADCOND  LIGHTCOND  \\\n",
       "SEVERITYCODE                              ...                        \n",
       "1               134750   37251    134081  ...    132533     132405   \n",
       "2                57997   27819     57915  ...     57128      57098   \n",
       "\n",
       "              PEDROWNOTGRNT  SDOTCOLNUM  SPEEDING  ST_COLCODE  ST_COLDESC  \\\n",
       "SEVERITYCODE                                                                \n",
       "1                       460       81429      5802      136480      132622   \n",
       "2                      4207       33507      3531       58175       57147   \n",
       "\n",
       "              SEGLANEKEY  CROSSWALKKEY  HITPARKEDCAR  \n",
       "SEVERITYCODE                                          \n",
       "1                 136485        136485        136485  \n",
       "2                  58188         58188         58188  \n",
       "\n",
       "[2 rows x 37 columns]"
      ]
     },
     "execution_count": 144,
     "metadata": {},
     "output_type": "execute_result"
    }
   ],
   "source": [
    "# Numerically explore the distribution of the severity code (target variable)\n",
    "\n",
    "car_data.groupby(\"SEVERITYCODE\").count()"
   ]
  },
  {
   "cell_type": "code",
   "execution_count": 145,
   "metadata": {},
   "outputs": [
    {
     "data": {
      "text/plain": [
       "Text(0, 0.5, 'Number of collisions')"
      ]
     },
     "execution_count": 145,
     "metadata": {},
     "output_type": "execute_result"
    },
    {
     "data": {
      "image/png": "[encoded data removed]",
      "text/plain": [
       "<Figure size 1440x360 with 1 Axes>"
      ]
     },
     "metadata": {
      "needs_background": "light"
     },
     "output_type": "display_data"
    }
   ],
   "source": [
    "# plot severity code \n",
    "\n",
    "plt.figure(figsize=(20,5))\n",
    "ax = sns.countplot(car_data[\"SEVERITYCODE\"],order = car_data[\"SEVERITYCODE\"].value_counts().index)\n",
    "\n",
    "# add count label to each bar\n",
    "for p, label in zip(ax.patches,car_data[\"SEVERITYCODE\"].value_counts()):\n",
    "    ax.annotate(label, (p.get_x()+0.35, p.get_height()+1000))\n",
    " \n",
    "\n",
    "ax.set_xlabel(\"Severity Code\")\n",
    "ax.set_ylabel(\"Number of collisions\")"
   ]
  },
  {
   "cell_type": "code",
   "execution_count": 146,
   "metadata": {},
   "outputs": [
    {
     "data": {
      "text/plain": [
       "Text(0.5, 0, 'People involved')"
      ]
     },
     "execution_count": 146,
     "metadata": {},
     "output_type": "execute_result"
    },
    {
     "data": {
      "image/png": "[encoded data removed]",
      "text/plain": [
       "<Figure size 576x360 with 1 Axes>"
      ]
     },
     "metadata": {
      "needs_background": "light"
     },
     "output_type": "display_data"
    }
   ],
   "source": [
    "# drop data entries with more than 10 people involved\n",
    "car_data.drop(car_data[car_data['PERSONCOUNT'] > 10].index,inplace = True)\n",
    "\n",
    "# plot histogram\n",
    "count, bin_edges = np.histogram(car_data[\"PERSONCOUNT\"])\n",
    "car_data[\"PERSONCOUNT\"].plot(kind = 'hist', figsize = (8,5),xticks = bin_edges)\n",
    "plt.xlabel(\"People involved\")"
   ]
  },
  {
   "cell_type": "code",
   "execution_count": 147,
   "metadata": {},
   "outputs": [
    {
     "data": {
      "text/plain": [
       "Text(0.5, 0, 'Vehicles involved')"
      ]
     },
     "execution_count": 147,
     "metadata": {},
     "output_type": "execute_result"
    },
    {
     "data": {
      "image/png": "[encoded data removed]",
      "text/plain": [
       "<Figure size 576x360 with 1 Axes>"
      ]
     },
     "metadata": {
      "needs_background": "light"
     },
     "output_type": "display_data"
    }
   ],
   "source": [
    "# drop entries with more than 7 vehicles\n",
    "car_data.drop(car_data[car_data['VEHCOUNT'] > 7].index,inplace = True)\n",
    "\n",
    "# plot histogram\n",
    "count, bin_edges = np.histogram(car_data[\"VEHCOUNT\"])\n",
    "car_data[\"VEHCOUNT\"].plot(kind = 'hist', figsize = (8,5),xticks = bin_edges)\n",
    "plt.xlabel(\"Vehicles involved\")"
   ]
  },
  {
   "cell_type": "code",
   "execution_count": 148,
   "metadata": {},
   "outputs": [
    {
     "data": {
      "text/plain": [
       "<matplotlib.axes._subplots.AxesSubplot at 0x1d47e638220>"
      ]
     },
     "execution_count": 148,
     "metadata": {},
     "output_type": "execute_result"
    },
    {
     "data": {
      "image/png": "[encoded data removed]",
      "text/plain": [
       "<Figure size 1440x360 with 1 Axes>"
      ]
     },
     "metadata": {
      "needs_background": "light"
     },
     "output_type": "display_data"
    }
   ],
   "source": [
    "# Plot weather feature \n",
    "plt.figure(figsize=(20,5))\n",
    "sns.countplot(car_data[\"WEATHER\"])"
   ]
  },
  {
   "cell_type": "code",
   "execution_count": 159,
   "metadata": {},
   "outputs": [
    {
     "data": {
      "text/plain": [
       "Text(0, 0.5, 'Number of people involved')"
      ]
     },
     "execution_count": 159,
     "metadata": {},
     "output_type": "execute_result"
    },
    {
     "data": {
      "image/png": "[encoded data removed]",
      "text/plain": [
       "<Figure size 1440x360 with 1 Axes>"
      ]
     },
     "metadata": {
      "needs_background": "light"
     },
     "output_type": "display_data"
    }
   ],
   "source": [
    "# create boxplot to visualize Severity code with regard to person count\n",
    "\n",
    "plt.figure(figsize=(20,5))\n",
    "sns.boxplot(x= \"SEVERITYCODE\", y = \"PERSONCOUNT\", data = car_data)\n",
    "plt.xlabel(\"Collision Severity\")\n",
    "plt.ylabel(\"Number of people involved\")"
   ]
  },
  {
   "cell_type": "code",
   "execution_count": 167,
   "metadata": {},
   "outputs": [
    {
     "data": {
      "text/plain": [
       "Text(0, 0.5, 'Number of people involved')"
      ]
     },
     "execution_count": 167,
     "metadata": {},
     "output_type": "execute_result"
    },
    {
     "data": {
      "image/png": "[encoded data removed]",
      "text/plain": [
       "<Figure size 1800x360 with 1 Axes>"
      ]
     },
     "metadata": {
      "needs_background": "light"
     },
     "output_type": "display_data"
    }
   ],
   "source": [
    "# Plot boxplot to visualize weather against number of people involved\n",
    "\n",
    "plt.figure(figsize=(25,5))\n",
    "sns.boxplot(x= \"WEATHER\", y = \"PERSONCOUNT\", data = car_data)\n",
    "plt.xlabel(\"Weather Condition\")\n",
    "plt.ylabel(\"Number of people involved\")"
   ]
  },
  {
   "cell_type": "code",
   "execution_count": 12,
   "metadata": {},
   "outputs": [
    {
     "data": {
      "text/plain": [
       "Mid-Block (not related to intersection)              89689\n",
       "At Intersection (intersection related)               62719\n",
       "Mid-Block (but intersection related)                 22744\n",
       "Driveway Junction                                    10660\n",
       "At Intersection (but not related to intersection)     2096\n",
       "Ramp Junction                                          166\n",
       "Unknown                                                  9\n",
       "Name: JUNCTIONTYPE, dtype: int64"
      ]
     },
     "execution_count": 12,
     "metadata": {},
     "output_type": "execute_result"
    }
   ],
   "source": [
    "# numerical exploration of junction type feature \n",
    "\n",
    "car_data['JUNCTIONTYPE'].value_counts()"
   ]
  },
  {
   "cell_type": "code",
   "execution_count": 13,
   "metadata": {},
   "outputs": [
    {
     "data": {
      "text/plain": [
       "Dry               124315\n",
       "Wet                47415\n",
       "Unknown            15078\n",
       "Ice                 1207\n",
       "Snow/Slush          1001\n",
       "Other                131\n",
       "Standing Water       115\n",
       "Sand/Mud/Dirt         75\n",
       "Oil                   63\n",
       "Name: ROADCOND, dtype: int64"
      ]
     },
     "execution_count": 13,
     "metadata": {},
     "output_type": "execute_result"
    }
   ],
   "source": [
    "# numerical exploration of road conditoin feature\n",
    "\n",
    "car_data[\"ROADCOND\"].value_counts().head(20)"
   ]
  },
  {
   "cell_type": "code",
   "execution_count": 153,
   "metadata": {},
   "outputs": [
    {
     "data": {
      "text/plain": [
       "Daylight                    115943\n",
       "Dark - Street Lights On      48455\n",
       "Unknown                      13473\n",
       "Dusk                          5896\n",
       "Dawn                          2497\n",
       "Dark - No Street Lights       1534\n",
       "Dark - Street Lights Off      1198\n",
       "Other                          235\n",
       "Dark - Unknown Lighting         11\n",
       "Name: LIGHTCOND, dtype: int64"
      ]
     },
     "execution_count": 153,
     "metadata": {},
     "output_type": "execute_result"
    }
   ],
   "source": [
    "# numerical exploration of light condition feature\n",
    "\n",
    "car_data[\"LIGHTCOND\"].value_counts().head(20)"
   ]
  },
  {
   "cell_type": "markdown",
   "metadata": {},
   "source": [
    "## Cleaning operations"
   ]
  },
  {
   "cell_type": "code",
   "execution_count": 14,
   "metadata": {},
   "outputs": [],
   "source": [
    "# fill null values in speeding column with 0's \n",
    "car_data[\"SPEEDING\"].fillna(0,inplace = True)"
   ]
  },
  {
   "cell_type": "code",
   "execution_count": 90,
   "metadata": {},
   "outputs": [],
   "source": [
    "# Excluded for modelling, worsened performance. \n",
    "\n",
    "high_risk = car_data[\"LOCATION\"].value_counts().head(20).to_frame().reset_index()\n",
    "mask = car_data[\"LOCATION\"].isin(high_risk[\"index\"])\n",
    "car_data.loc[mask,\"HIGH_RISK\"] = 1 \n"
   ]
  },
  {
   "cell_type": "markdown",
   "metadata": {},
   "source": [
    "## Select features and transform categorical variables"
   ]
  },
  {
   "cell_type": "code",
   "execution_count": 94,
   "metadata": {},
   "outputs": [
    {
     "data": {
      "text/html": [
       "<div>\n",
       "<style scoped>\n",
       "    .dataframe tbody tr th:only-of-type {\n",
       "        vertical-align: middle;\n",
       "    }\n",
       "\n",
       "    .dataframe tbody tr th {\n",
       "        vertical-align: top;\n",
       "    }\n",
       "\n",
       "    .dataframe thead th {\n",
       "        text-align: right;\n",
       "    }\n",
       "</style>\n",
       "<table border=\"1\" class=\"dataframe\">\n",
       "  <thead>\n",
       "    <tr style=\"text-align: right;\">\n",
       "      <th></th>\n",
       "      <th>SEVERITYCODE</th>\n",
       "      <th>PERSONCOUNT</th>\n",
       "      <th>VEHCOUNT</th>\n",
       "      <th>JUNCTIONTYPE</th>\n",
       "      <th>WEATHER</th>\n",
       "      <th>ROADCOND</th>\n",
       "      <th>LIGHTCOND</th>\n",
       "      <th>SPEEDING</th>\n",
       "      <th>UNDERINFL</th>\n",
       "      <th>HIGH_RISK</th>\n",
       "    </tr>\n",
       "  </thead>\n",
       "  <tbody>\n",
       "    <tr>\n",
       "      <th>0</th>\n",
       "      <td>2</td>\n",
       "      <td>2</td>\n",
       "      <td>2</td>\n",
       "      <td>At Intersection (intersection related)</td>\n",
       "      <td>Overcast</td>\n",
       "      <td>Wet</td>\n",
       "      <td>Daylight</td>\n",
       "      <td>0</td>\n",
       "      <td>N</td>\n",
       "      <td>0.0</td>\n",
       "    </tr>\n",
       "    <tr>\n",
       "      <th>1</th>\n",
       "      <td>1</td>\n",
       "      <td>2</td>\n",
       "      <td>2</td>\n",
       "      <td>Mid-Block (not related to intersection)</td>\n",
       "      <td>Raining</td>\n",
       "      <td>Wet</td>\n",
       "      <td>Dark - Street Lights On</td>\n",
       "      <td>0</td>\n",
       "      <td>0</td>\n",
       "      <td>1.0</td>\n",
       "    </tr>\n",
       "    <tr>\n",
       "      <th>2</th>\n",
       "      <td>1</td>\n",
       "      <td>4</td>\n",
       "      <td>3</td>\n",
       "      <td>Mid-Block (not related to intersection)</td>\n",
       "      <td>Overcast</td>\n",
       "      <td>Dry</td>\n",
       "      <td>Daylight</td>\n",
       "      <td>0</td>\n",
       "      <td>0</td>\n",
       "      <td>0.0</td>\n",
       "    </tr>\n",
       "    <tr>\n",
       "      <th>3</th>\n",
       "      <td>1</td>\n",
       "      <td>3</td>\n",
       "      <td>3</td>\n",
       "      <td>Mid-Block (not related to intersection)</td>\n",
       "      <td>Clear</td>\n",
       "      <td>Dry</td>\n",
       "      <td>Daylight</td>\n",
       "      <td>0</td>\n",
       "      <td>N</td>\n",
       "      <td>0.0</td>\n",
       "    </tr>\n",
       "    <tr>\n",
       "      <th>4</th>\n",
       "      <td>2</td>\n",
       "      <td>2</td>\n",
       "      <td>2</td>\n",
       "      <td>At Intersection (intersection related)</td>\n",
       "      <td>Raining</td>\n",
       "      <td>Wet</td>\n",
       "      <td>Daylight</td>\n",
       "      <td>0</td>\n",
       "      <td>0</td>\n",
       "      <td>0.0</td>\n",
       "    </tr>\n",
       "  </tbody>\n",
       "</table>\n",
       "</div>"
      ],
      "text/plain": [
       "   SEVERITYCODE  PERSONCOUNT  VEHCOUNT  \\\n",
       "0             2            2         2   \n",
       "1             1            2         2   \n",
       "2             1            4         3   \n",
       "3             1            3         3   \n",
       "4             2            2         2   \n",
       "\n",
       "                              JUNCTIONTYPE   WEATHER ROADCOND  \\\n",
       "0   At Intersection (intersection related)  Overcast      Wet   \n",
       "1  Mid-Block (not related to intersection)   Raining      Wet   \n",
       "2  Mid-Block (not related to intersection)  Overcast      Dry   \n",
       "3  Mid-Block (not related to intersection)     Clear      Dry   \n",
       "4   At Intersection (intersection related)   Raining      Wet   \n",
       "\n",
       "                 LIGHTCOND SPEEDING UNDERINFL  HIGH_RISK  \n",
       "0                 Daylight        0         N        0.0  \n",
       "1  Dark - Street Lights On        0         0        1.0  \n",
       "2                 Daylight        0         0        0.0  \n",
       "3                 Daylight        0         N        0.0  \n",
       "4                 Daylight        0         0        0.0  "
      ]
     },
     "execution_count": 94,
     "metadata": {},
     "output_type": "execute_result"
    }
   ],
   "source": [
    "# subset columns to be used\n",
    "features = car_data.loc[:,[\"SEVERITYCODE\",\"PERSONCOUNT\",\"VEHCOUNT\",\"JUNCTIONTYPE\",\"WEATHER\",\"ROADCOND\",\"LIGHTCOND\",\"SPEEDING\",\"UNDERINFL\"]]\n",
    "\n",
    "# count null values\n",
    "features.isnull().sum()\n",
    "\n",
    "# drop null values \n",
    "features.dropna(axis=0,inplace=True)\n",
    "\n",
    "features.head()"
   ]
  },
  {
   "cell_type": "code",
   "execution_count": 95,
   "metadata": {},
   "outputs": [],
   "source": [
    "# Replace Y values for speeding with 1 -> column fully numerical\n",
    "features[\"SPEEDING\"].replace(to_replace = ['Y'],value = [1], inplace = True)\n",
    "\n",
    "# Replace Y, N in Under influence column with 1 and 0 respectively\n",
    "features[\"UNDERINFL\"].replace(to_replace = ['Y','N'],value = [1,0], inplace = True)\n",
    "\n",
    "# Replace 0's and 1's recorded as strings with integer values\n",
    "features[\"UNDERINFL\"].replace(\"0\",0,inplace = True)\n",
    "features[\"UNDERINFL\"].replace(\"1\",1,inplace = True)"
   ]
  },
  {
   "cell_type": "code",
   "execution_count": 96,
   "metadata": {},
   "outputs": [],
   "source": [
    "# encode dummies for each categorical variable\n",
    "features = pd.DataFrame(pd.get_dummies(features))"
   ]
  },
  {
   "cell_type": "code",
   "execution_count": 97,
   "metadata": {},
   "outputs": [
    {
     "data": {
      "text/html": [
       "<div>\n",
       "<style scoped>\n",
       "    .dataframe tbody tr th:only-of-type {\n",
       "        vertical-align: middle;\n",
       "    }\n",
       "\n",
       "    .dataframe tbody tr th {\n",
       "        vertical-align: top;\n",
       "    }\n",
       "\n",
       "    .dataframe thead th {\n",
       "        text-align: right;\n",
       "    }\n",
       "</style>\n",
       "<table border=\"1\" class=\"dataframe\">\n",
       "  <thead>\n",
       "    <tr style=\"text-align: right;\">\n",
       "      <th></th>\n",
       "      <th>SEVERITYCODE</th>\n",
       "      <th>PERSONCOUNT</th>\n",
       "      <th>VEHCOUNT</th>\n",
       "      <th>SPEEDING</th>\n",
       "      <th>UNDERINFL</th>\n",
       "      <th>HIGH_RISK</th>\n",
       "      <th>JUNCTIONTYPE_At Intersection (but not related to intersection)</th>\n",
       "      <th>JUNCTIONTYPE_At Intersection (intersection related)</th>\n",
       "      <th>JUNCTIONTYPE_Driveway Junction</th>\n",
       "      <th>JUNCTIONTYPE_Mid-Block (but intersection related)</th>\n",
       "      <th>...</th>\n",
       "      <th>ROADCOND_Wet</th>\n",
       "      <th>LIGHTCOND_Dark - No Street Lights</th>\n",
       "      <th>LIGHTCOND_Dark - Street Lights Off</th>\n",
       "      <th>LIGHTCOND_Dark - Street Lights On</th>\n",
       "      <th>LIGHTCOND_Dark - Unknown Lighting</th>\n",
       "      <th>LIGHTCOND_Dawn</th>\n",
       "      <th>LIGHTCOND_Daylight</th>\n",
       "      <th>LIGHTCOND_Dusk</th>\n",
       "      <th>LIGHTCOND_Other</th>\n",
       "      <th>LIGHTCOND_Unknown</th>\n",
       "    </tr>\n",
       "  </thead>\n",
       "  <tbody>\n",
       "    <tr>\n",
       "      <th>0</th>\n",
       "      <td>2</td>\n",
       "      <td>2</td>\n",
       "      <td>2</td>\n",
       "      <td>0</td>\n",
       "      <td>0</td>\n",
       "      <td>0.0</td>\n",
       "      <td>0</td>\n",
       "      <td>1</td>\n",
       "      <td>0</td>\n",
       "      <td>0</td>\n",
       "      <td>...</td>\n",
       "      <td>1</td>\n",
       "      <td>0</td>\n",
       "      <td>0</td>\n",
       "      <td>0</td>\n",
       "      <td>0</td>\n",
       "      <td>0</td>\n",
       "      <td>1</td>\n",
       "      <td>0</td>\n",
       "      <td>0</td>\n",
       "      <td>0</td>\n",
       "    </tr>\n",
       "    <tr>\n",
       "      <th>1</th>\n",
       "      <td>1</td>\n",
       "      <td>2</td>\n",
       "      <td>2</td>\n",
       "      <td>0</td>\n",
       "      <td>0</td>\n",
       "      <td>1.0</td>\n",
       "      <td>0</td>\n",
       "      <td>0</td>\n",
       "      <td>0</td>\n",
       "      <td>0</td>\n",
       "      <td>...</td>\n",
       "      <td>1</td>\n",
       "      <td>0</td>\n",
       "      <td>0</td>\n",
       "      <td>1</td>\n",
       "      <td>0</td>\n",
       "      <td>0</td>\n",
       "      <td>0</td>\n",
       "      <td>0</td>\n",
       "      <td>0</td>\n",
       "      <td>0</td>\n",
       "    </tr>\n",
       "    <tr>\n",
       "      <th>2</th>\n",
       "      <td>1</td>\n",
       "      <td>4</td>\n",
       "      <td>3</td>\n",
       "      <td>0</td>\n",
       "      <td>0</td>\n",
       "      <td>0.0</td>\n",
       "      <td>0</td>\n",
       "      <td>0</td>\n",
       "      <td>0</td>\n",
       "      <td>0</td>\n",
       "      <td>...</td>\n",
       "      <td>0</td>\n",
       "      <td>0</td>\n",
       "      <td>0</td>\n",
       "      <td>0</td>\n",
       "      <td>0</td>\n",
       "      <td>0</td>\n",
       "      <td>1</td>\n",
       "      <td>0</td>\n",
       "      <td>0</td>\n",
       "      <td>0</td>\n",
       "    </tr>\n",
       "    <tr>\n",
       "      <th>3</th>\n",
       "      <td>1</td>\n",
       "      <td>3</td>\n",
       "      <td>3</td>\n",
       "      <td>0</td>\n",
       "      <td>0</td>\n",
       "      <td>0.0</td>\n",
       "      <td>0</td>\n",
       "      <td>0</td>\n",
       "      <td>0</td>\n",
       "      <td>0</td>\n",
       "      <td>...</td>\n",
       "      <td>0</td>\n",
       "      <td>0</td>\n",
       "      <td>0</td>\n",
       "      <td>0</td>\n",
       "      <td>0</td>\n",
       "      <td>0</td>\n",
       "      <td>1</td>\n",
       "      <td>0</td>\n",
       "      <td>0</td>\n",
       "      <td>0</td>\n",
       "    </tr>\n",
       "    <tr>\n",
       "      <th>4</th>\n",
       "      <td>2</td>\n",
       "      <td>2</td>\n",
       "      <td>2</td>\n",
       "      <td>0</td>\n",
       "      <td>0</td>\n",
       "      <td>0.0</td>\n",
       "      <td>0</td>\n",
       "      <td>1</td>\n",
       "      <td>0</td>\n",
       "      <td>0</td>\n",
       "      <td>...</td>\n",
       "      <td>1</td>\n",
       "      <td>0</td>\n",
       "      <td>0</td>\n",
       "      <td>0</td>\n",
       "      <td>0</td>\n",
       "      <td>0</td>\n",
       "      <td>1</td>\n",
       "      <td>0</td>\n",
       "      <td>0</td>\n",
       "      <td>0</td>\n",
       "    </tr>\n",
       "  </tbody>\n",
       "</table>\n",
       "<p>5 rows × 42 columns</p>\n",
       "</div>"
      ],
      "text/plain": [
       "   SEVERITYCODE  PERSONCOUNT  VEHCOUNT  SPEEDING  UNDERINFL  HIGH_RISK  \\\n",
       "0             2            2         2         0          0        0.0   \n",
       "1             1            2         2         0          0        1.0   \n",
       "2             1            4         3         0          0        0.0   \n",
       "3             1            3         3         0          0        0.0   \n",
       "4             2            2         2         0          0        0.0   \n",
       "\n",
       "   JUNCTIONTYPE_At Intersection (but not related to intersection)  \\\n",
       "0                                                  0                \n",
       "1                                                  0                \n",
       "2                                                  0                \n",
       "3                                                  0                \n",
       "4                                                  0                \n",
       "\n",
       "   JUNCTIONTYPE_At Intersection (intersection related)  \\\n",
       "0                                                  1     \n",
       "1                                                  0     \n",
       "2                                                  0     \n",
       "3                                                  0     \n",
       "4                                                  1     \n",
       "\n",
       "   JUNCTIONTYPE_Driveway Junction  \\\n",
       "0                               0   \n",
       "1                               0   \n",
       "2                               0   \n",
       "3                               0   \n",
       "4                               0   \n",
       "\n",
       "   JUNCTIONTYPE_Mid-Block (but intersection related)  ...  ROADCOND_Wet  \\\n",
       "0                                                  0  ...             1   \n",
       "1                                                  0  ...             1   \n",
       "2                                                  0  ...             0   \n",
       "3                                                  0  ...             0   \n",
       "4                                                  0  ...             1   \n",
       "\n",
       "   LIGHTCOND_Dark - No Street Lights  LIGHTCOND_Dark - Street Lights Off  \\\n",
       "0                                  0                                   0   \n",
       "1                                  0                                   0   \n",
       "2                                  0                                   0   \n",
       "3                                  0                                   0   \n",
       "4                                  0                                   0   \n",
       "\n",
       "   LIGHTCOND_Dark - Street Lights On  LIGHTCOND_Dark - Unknown Lighting  \\\n",
       "0                                  0                                  0   \n",
       "1                                  1                                  0   \n",
       "2                                  0                                  0   \n",
       "3                                  0                                  0   \n",
       "4                                  0                                  0   \n",
       "\n",
       "   LIGHTCOND_Dawn  LIGHTCOND_Daylight  LIGHTCOND_Dusk  LIGHTCOND_Other  \\\n",
       "0               0                   1               0                0   \n",
       "1               0                   0               0                0   \n",
       "2               0                   1               0                0   \n",
       "3               0                   1               0                0   \n",
       "4               0                   1               0                0   \n",
       "\n",
       "   LIGHTCOND_Unknown  \n",
       "0                  0  \n",
       "1                  0  \n",
       "2                  0  \n",
       "3                  0  \n",
       "4                  0  \n",
       "\n",
       "[5 rows x 42 columns]"
      ]
     },
     "execution_count": 97,
     "metadata": {},
     "output_type": "execute_result"
    }
   ],
   "source": [
    "features.head()"
   ]
  },
  {
   "cell_type": "code",
   "execution_count": 98,
   "metadata": {},
   "outputs": [],
   "source": [
    "# extract features from data set and exclude severity code\n",
    "X = features.loc[:,features.columns != \"SEVERITYCODE\"]"
   ]
  },
  {
   "cell_type": "code",
   "execution_count": 99,
   "metadata": {},
   "outputs": [],
   "source": [
    "# prepare target variable and select severity code\n",
    "Y = features.loc[:,\"SEVERITYCODE\"].values"
   ]
  },
  {
   "cell_type": "markdown",
   "metadata": {},
   "source": [
    "## Normalization"
   ]
  },
  {
   "cell_type": "code",
   "execution_count": 100,
   "metadata": {},
   "outputs": [
    {
     "data": {
      "text/plain": [
       "array([[-3.85411482e-01,  5.45278742e-02, -2.29972930e-01,\n",
       "        -2.27285766e-01, -1.46758648e-01, -1.06588571e-01,\n",
       "         1.41123283e+00, -2.46876254e-01, -3.72657579e-01,\n",
       "        -9.49636204e-01, -2.97715528e-02, -6.18598592e-03,\n",
       "        -1.63684595e-02, -1.21398767e+00, -5.52638800e-02,\n",
       "        -6.41185081e-02,  2.39405326e+00, -5.22808374e-03,\n",
       "        -4.65939922e-01, -1.16909897e-02, -2.47510482e-02,\n",
       "        -6.95248452e-02, -2.62181392e-01, -1.41620462e+00,\n",
       "        -8.04713827e-02, -1.79617087e-02, -2.58330912e-02,\n",
       "        -1.91411728e-02, -7.32759917e-02, -2.44171106e-02,\n",
       "        -2.60845238e-01,  1.70801685e+00, -8.96949569e-02,\n",
       "        -7.97803650e-02, -5.92562886e-01, -7.75462852e-03,\n",
       "        -1.16485705e-01,  7.79630687e-01, -1.80548198e-01,\n",
       "        -3.39815693e-02, -2.47424107e-01],\n",
       "       [-3.85411482e-01,  5.45278742e-02, -2.29972930e-01,\n",
       "        -2.27285766e-01,  6.81390851e+00, -1.06588571e-01,\n",
       "        -7.08600298e-01, -2.46876254e-01, -3.72657579e-01,\n",
       "         1.05303483e+00, -2.97715528e-02, -6.18598592e-03,\n",
       "        -1.63684595e-02, -1.21398767e+00, -5.52638800e-02,\n",
       "        -6.41185081e-02, -4.17701651e-01, -5.22808374e-03,\n",
       "         2.14619944e+00, -1.16909897e-02, -2.47510482e-02,\n",
       "        -6.95248452e-02, -2.62181392e-01, -1.41620462e+00,\n",
       "        -8.04713827e-02, -1.79617087e-02, -2.58330912e-02,\n",
       "        -1.91411728e-02, -7.32759917e-02, -2.44171106e-02,\n",
       "        -2.60845238e-01,  1.70801685e+00, -8.96949569e-02,\n",
       "        -7.97803650e-02,  1.68758460e+00, -7.75462852e-03,\n",
       "        -1.16485705e-01, -1.28265859e+00, -1.80548198e-01,\n",
       "        -3.39815693e-02, -2.47424107e-01],\n",
       "       [ 1.31234426e+00,  1.86225833e+00, -2.29972930e-01,\n",
       "        -2.27285766e-01, -1.46758648e-01, -1.06588571e-01,\n",
       "        -7.08600298e-01, -2.46876254e-01, -3.72657579e-01,\n",
       "         1.05303483e+00, -2.97715528e-02, -6.18598592e-03,\n",
       "        -1.63684595e-02, -1.21398767e+00, -5.52638800e-02,\n",
       "        -6.41185081e-02,  2.39405326e+00, -5.22808374e-03,\n",
       "        -4.65939922e-01, -1.16909897e-02, -2.47510482e-02,\n",
       "        -6.95248452e-02, -2.62181392e-01,  7.06112654e-01,\n",
       "        -8.04713827e-02, -1.79617087e-02, -2.58330912e-02,\n",
       "        -1.91411728e-02, -7.32759917e-02, -2.44171106e-02,\n",
       "        -2.60845238e-01, -5.85474317e-01, -8.96949569e-02,\n",
       "        -7.97803650e-02, -5.92562886e-01, -7.75462852e-03,\n",
       "        -1.16485705e-01,  7.79630687e-01, -1.80548198e-01,\n",
       "        -3.39815693e-02, -2.47424107e-01],\n",
       "       [ 4.63466391e-01,  1.86225833e+00, -2.29972930e-01,\n",
       "        -2.27285766e-01, -1.46758648e-01, -1.06588571e-01,\n",
       "        -7.08600298e-01, -2.46876254e-01, -3.72657579e-01,\n",
       "         1.05303483e+00, -2.97715528e-02, -6.18598592e-03,\n",
       "        -1.63684595e-02,  8.23731597e-01, -5.52638800e-02,\n",
       "        -6.41185081e-02, -4.17701651e-01, -5.22808374e-03,\n",
       "        -4.65939922e-01, -1.16909897e-02, -2.47510482e-02,\n",
       "        -6.95248452e-02, -2.62181392e-01,  7.06112654e-01,\n",
       "        -8.04713827e-02, -1.79617087e-02, -2.58330912e-02,\n",
       "        -1.91411728e-02, -7.32759917e-02, -2.44171106e-02,\n",
       "        -2.60845238e-01, -5.85474317e-01, -8.96949569e-02,\n",
       "        -7.97803650e-02, -5.92562886e-01, -7.75462852e-03,\n",
       "        -1.16485705e-01,  7.79630687e-01, -1.80548198e-01,\n",
       "        -3.39815693e-02, -2.47424107e-01],\n",
       "       [-3.85411482e-01,  5.45278742e-02, -2.29972930e-01,\n",
       "        -2.27285766e-01, -1.46758648e-01, -1.06588571e-01,\n",
       "         1.41123283e+00, -2.46876254e-01, -3.72657579e-01,\n",
       "        -9.49636204e-01, -2.97715528e-02, -6.18598592e-03,\n",
       "        -1.63684595e-02, -1.21398767e+00, -5.52638800e-02,\n",
       "        -6.41185081e-02, -4.17701651e-01, -5.22808374e-03,\n",
       "         2.14619944e+00, -1.16909897e-02, -2.47510482e-02,\n",
       "        -6.95248452e-02, -2.62181392e-01, -1.41620462e+00,\n",
       "        -8.04713827e-02, -1.79617087e-02, -2.58330912e-02,\n",
       "        -1.91411728e-02, -7.32759917e-02, -2.44171106e-02,\n",
       "        -2.60845238e-01,  1.70801685e+00, -8.96949569e-02,\n",
       "        -7.97803650e-02, -5.92562886e-01, -7.75462852e-03,\n",
       "        -1.16485705e-01,  7.79630687e-01, -1.80548198e-01,\n",
       "        -3.39815693e-02, -2.47424107e-01]])"
      ]
     },
     "execution_count": 100,
     "metadata": {},
     "output_type": "execute_result"
    }
   ],
   "source": [
    "# normalize dataframe \n",
    "X = preprocessing.StandardScaler().fit(X).transform(X)\n",
    "X[0:5]"
   ]
  },
  {
   "cell_type": "code",
   "execution_count": 101,
   "metadata": {},
   "outputs": [],
   "source": [
    "# split into test and train set\n",
    "X_train,X_test,y_train,y_test = train_test_split(X,Y,test_size = 0.2)"
   ]
  },
  {
   "cell_type": "markdown",
   "metadata": {},
   "source": [
    "## K Nearest Neighbor (KNN)"
   ]
  },
  {
   "cell_type": "code",
   "execution_count": 102,
   "metadata": {},
   "outputs": [],
   "source": [
    "from sklearn.neighbors import KNeighborsClassifier"
   ]
  },
  {
   "cell_type": "code",
   "execution_count": 103,
   "metadata": {},
   "outputs": [],
   "source": [
    "# split train set into set for finding optimal K\n",
    "X_ktrain, X_ktest, y_ktrain, y_ktest = train_test_split(X_train,y_train,test_size = 0.2)"
   ]
  },
  {
   "cell_type": "code",
   "execution_count": 322,
   "metadata": {},
   "outputs": [],
   "source": [
    "# Test run KNN\n",
    "k = 3 \n",
    "knn_model = KNeighborsClassifier(n_neighbors = k).fit(X_ktrain,y_ktrain)"
   ]
  },
  {
   "cell_type": "code",
   "execution_count": 323,
   "metadata": {},
   "outputs": [
    {
     "data": {
      "text/plain": [
       "array([1, 1, 2, 1, 1], dtype=int64)"
      ]
     },
     "execution_count": 323,
     "metadata": {},
     "output_type": "execute_result"
    }
   ],
   "source": [
    "# Test predict KNN\n",
    "yhat = knn_model.predict(X_ktest)\n",
    "yhat[0:5]"
   ]
  },
  {
   "cell_type": "code",
   "execution_count": 325,
   "metadata": {},
   "outputs": [
    {
     "data": {
      "text/plain": [
       "array([0.59002392, 0.69965835, 0.68718825, 0.71636488, 0.7034848 ,\n",
       "       0.71520328, 0.70956611, 0.72217287, 0.71062521, 0.73190981,\n",
       "       0.71469081, 0.72613598, 0.72333447, 0.72538435])"
      ]
     },
     "execution_count": 325,
     "metadata": {},
     "output_type": "execute_result"
    }
   ],
   "source": [
    "# Best k\n",
    "Ks=15\n",
    "mean_acc=np.zeros((Ks-1))\n",
    "std_acc=np.zeros((Ks-1))\n",
    "ConfustionMx=[];\n",
    "for n in range(1,Ks):\n",
    "    \n",
    "    #Train Model and Predict  \n",
    "    kNN_model = KNeighborsClassifier(n_neighbors=n).fit(X_ktrain,y_ktrain)\n",
    "    yhat = kNN_model.predict(X_ktest)\n",
    "    \n",
    "    \n",
    "    mean_acc[n-1]=np.mean(yhat==y_ktest);\n",
    "    \n",
    "    std_acc[n-1]=np.std(yhat==y_ktest)/np.sqrt(yhat.shape[0])\n",
    "mean_acc\n",
    "\n",
    "# k = 10 is best"
   ]
  },
  {
   "cell_type": "code",
   "execution_count": 104,
   "metadata": {},
   "outputs": [
    {
     "data": {
      "text/plain": [
       "KNeighborsClassifier(n_neighbors=10)"
      ]
     },
     "execution_count": 104,
     "metadata": {},
     "output_type": "execute_result"
    }
   ],
   "source": [
    "# create model with optimal K\n",
    "knn_model = KNeighborsClassifier(n_neighbors = 10).fit(X_train,y_train)\n",
    "knn_model"
   ]
  },
  {
   "cell_type": "code",
   "execution_count": 105,
   "metadata": {},
   "outputs": [],
   "source": [
    "# save predictions for KNN\n",
    "yhat_knn = knn_model.predict(X_test)"
   ]
  },
  {
   "cell_type": "markdown",
   "metadata": {},
   "source": [
    "## Decision Tree"
   ]
  },
  {
   "cell_type": "code",
   "execution_count": 106,
   "metadata": {},
   "outputs": [
    {
     "data": {
      "text/plain": [
       "DecisionTreeClassifier(criterion='entropy', max_depth=16)"
      ]
     },
     "execution_count": 106,
     "metadata": {},
     "output_type": "execute_result"
    }
   ],
   "source": [
    "from sklearn.tree import DecisionTreeClassifier\n",
    "\n",
    "# Create decision tree and fit to training data\n",
    "DT_model = DecisionTreeClassifier(criterion = \"entropy\",max_depth = 16)\n",
    "DT_model.fit(X_train,y_train)\n",
    "DT_model"
   ]
  },
  {
   "cell_type": "code",
   "execution_count": 107,
   "metadata": {},
   "outputs": [],
   "source": [
    "# compute and save predictions \n",
    "yhat_DT = DT_model.predict(X_test)"
   ]
  },
  {
   "cell_type": "markdown",
   "metadata": {},
   "source": [
    "## Logistic Regression"
   ]
  },
  {
   "cell_type": "code",
   "execution_count": 171,
   "metadata": {},
   "outputs": [
    {
     "data": {
      "text/plain": [
       "LogisticRegression(C=0.001)"
      ]
     },
     "execution_count": 171,
     "metadata": {},
     "output_type": "execute_result"
    }
   ],
   "source": [
    "from sklearn.linear_model import LogisticRegression\n",
    "\n",
    "# Create logistic regression model. Parameter tuned to 0.001 \n",
    "LR_model = LogisticRegression(C=0.001).fit(X_train,y_train)\n",
    "LR_model"
   ]
  },
  {
   "cell_type": "code",
   "execution_count": 172,
   "metadata": {},
   "outputs": [
    {
     "data": {
      "text/plain": [
       "array([1, 1, 1, 1, 2], dtype=int64)"
      ]
     },
     "execution_count": 172,
     "metadata": {},
     "output_type": "execute_result"
    }
   ],
   "source": [
    "# Save predictions for model evaluation\n",
    "yhat_LR = LR_model.predict(X_test)\n",
    "yhat_LR[0:5]"
   ]
  },
  {
   "cell_type": "code",
   "execution_count": 173,
   "metadata": {},
   "outputs": [],
   "source": [
    "# Compute and save probability predictions\n",
    "\n",
    "yhat_LR_proba = LR_model.predict_proba(X_test)"
   ]
  },
  {
   "cell_type": "markdown",
   "metadata": {},
   "source": [
    "## Model Evaluation using performance metrics"
   ]
  },
  {
   "cell_type": "code",
   "execution_count": 36,
   "metadata": {},
   "outputs": [],
   "source": [
    "from sklearn.metrics import jaccard_score\n",
    "from sklearn.metrics import f1_score\n",
    "from sklearn.metrics import log_loss"
   ]
  },
  {
   "cell_type": "code",
   "execution_count": 111,
   "metadata": {},
   "outputs": [
    {
     "name": "stdout",
     "output_type": "stream",
     "text": [
      "KNN Jaccard index: 0.70\n",
      "KNN F1-score: 0.69\n"
     ]
    }
   ],
   "source": [
    "# print model performance indicators for KNN (Jaccard and F1)\n",
    "print(\"KNN Jaccard index: %.2f\" % jaccard_score(y_test, yhat_knn))\n",
    "print(\"KNN F1-score: %.2f\" % f1_score(y_test, yhat_knn, average='weighted') )"
   ]
  },
  {
   "cell_type": "code",
   "execution_count": 112,
   "metadata": {},
   "outputs": [
    {
     "name": "stdout",
     "output_type": "stream",
     "text": [
      "DT Jaccard index: 0.71\n",
      "DT F1-score: 0.70\n"
     ]
    }
   ],
   "source": [
    "# print model performance indicators for Decision Tree (Jaccard and F1)\n",
    "print(\"DT Jaccard index: %.2f\" % jaccard_score(y_test, yhat_DT))\n",
    "print(\"DT F1-score: %.2f\" % f1_score(y_test, yhat_DT, average='weighted') )"
   ]
  },
  {
   "cell_type": "code",
   "execution_count": 174,
   "metadata": {},
   "outputs": [
    {
     "name": "stdout",
     "output_type": "stream",
     "text": [
      "LR Jaccard index: 0.69\n",
      "LR F1-score: 0.65\n",
      "LR LogLoss: 0.57\n"
     ]
    }
   ],
   "source": [
    "# print model performance indicators for KNN (Jaccard, F1 and LogLoss)\n",
    "print(\"LR Jaccard index: %.2f\" % jaccard_score(y_test, yhat_LR))\n",
    "print(\"LR F1-score: %.2f\" % f1_score(y_test, yhat_LR, average='weighted') )\n",
    "print(\"LR LogLoss: %.2f\" % log_loss(y_test, yhat_LR_proba))"
   ]
  },
  {
   "cell_type": "markdown",
   "metadata": {},
   "source": [
    "## Model performance"
   ]
  },
  {
   "cell_type": "markdown",
   "metadata": {},
   "source": [
    "| Algorithm          | Jaccard | F1-score | LogLoss |\n",
    "|--------------------|---------|----------|---------|\n",
    "| KNN                | 0.71    | 0.69     | NA      |\n",
    "| Decision Tree      | 0.72    | 0.70     | NA      |\n",
    "| LogisticRegression | 0.69    | 0.65     | 0.57    |"
   ]
  },
  {
   "cell_type": "code",
   "execution_count": null,
   "metadata": {},
   "outputs": [],
   "source": []
  }
 ],
 "metadata": {
  "kernelspec": {
   "display_name": "Python 3",
   "language": "python",
   "name": "python3"
  },
  "language_info": {
   "codemirror_mode": {
    "name": "ipython",
    "version": 3
   },
   "file_extension": ".py",
   "mimetype": "text/x-python",
   "name": "python",
   "nbconvert_exporter": "python",
   "pygments_lexer": "ipython3",
   "version": "3.8.3"
  }
 },
 "nbformat": 4,
 "nbformat_minor": 4
}
